{
 "cells": [
  {
   "cell_type": "code",
   "execution_count": 1,
   "metadata": {},
   "outputs": [],
   "source": [
    "import matplotlib.pyplot as plt\n",
    "import pandas as pd\n",
    "import yfinance as yf"
   ]
  },
  {
   "cell_type": "code",
   "execution_count": 2,
   "metadata": {},
   "outputs": [
    {
     "name": "stdout",
     "output_type": "stream",
     "text": [
      "YF.download() has changed argument auto_adjust default to True\n"
     ]
    },
    {
     "name": "stderr",
     "output_type": "stream",
     "text": [
      "[*********************100%***********************]  2 of 2 completed\n"
     ]
    },
    {
     "data": {
      "text/html": [
       "<div>\n",
       "<style scoped>\n",
       "    .dataframe tbody tr th:only-of-type {\n",
       "        vertical-align: middle;\n",
       "    }\n",
       "\n",
       "    .dataframe tbody tr th {\n",
       "        vertical-align: top;\n",
       "    }\n",
       "\n",
       "    .dataframe thead tr th {\n",
       "        text-align: left;\n",
       "    }\n",
       "\n",
       "    .dataframe thead tr:last-of-type th {\n",
       "        text-align: right;\n",
       "    }\n",
       "</style>\n",
       "<table border=\"1\" class=\"dataframe\">\n",
       "  <thead>\n",
       "    <tr>\n",
       "      <th>Price</th>\n",
       "      <th colspan=\"2\" halign=\"left\">Close</th>\n",
       "      <th colspan=\"2\" halign=\"left\">High</th>\n",
       "      <th colspan=\"2\" halign=\"left\">Low</th>\n",
       "      <th colspan=\"2\" halign=\"left\">Open</th>\n",
       "      <th colspan=\"2\" halign=\"left\">Volume</th>\n",
       "    </tr>\n",
       "    <tr>\n",
       "      <th>Ticker</th>\n",
       "      <th>AAPL</th>\n",
       "      <th>SPY</th>\n",
       "      <th>AAPL</th>\n",
       "      <th>SPY</th>\n",
       "      <th>AAPL</th>\n",
       "      <th>SPY</th>\n",
       "      <th>AAPL</th>\n",
       "      <th>SPY</th>\n",
       "      <th>AAPL</th>\n",
       "      <th>SPY</th>\n",
       "    </tr>\n",
       "    <tr>\n",
       "      <th>Date</th>\n",
       "      <th></th>\n",
       "      <th></th>\n",
       "      <th></th>\n",
       "      <th></th>\n",
       "      <th></th>\n",
       "      <th></th>\n",
       "      <th></th>\n",
       "      <th></th>\n",
       "      <th></th>\n",
       "      <th></th>\n",
       "    </tr>\n",
       "  </thead>\n",
       "  <tbody>\n",
       "    <tr>\n",
       "      <th>2010-01-04</th>\n",
       "      <td>6.440331</td>\n",
       "      <td>86.026451</td>\n",
       "      <td>6.455077</td>\n",
       "      <td>86.071994</td>\n",
       "      <td>6.391279</td>\n",
       "      <td>84.644927</td>\n",
       "      <td>6.422877</td>\n",
       "      <td>85.297736</td>\n",
       "      <td>493729600</td>\n",
       "      <td>118944600</td>\n",
       "    </tr>\n",
       "    <tr>\n",
       "      <th>2010-01-05</th>\n",
       "      <td>6.451466</td>\n",
       "      <td>86.254158</td>\n",
       "      <td>6.487879</td>\n",
       "      <td>86.292114</td>\n",
       "      <td>6.417459</td>\n",
       "      <td>85.662077</td>\n",
       "      <td>6.458086</td>\n",
       "      <td>85.973302</td>\n",
       "      <td>601904800</td>\n",
       "      <td>111579900</td>\n",
       "    </tr>\n",
       "    <tr>\n",
       "      <th>2010-01-06</th>\n",
       "      <td>6.348846</td>\n",
       "      <td>86.314911</td>\n",
       "      <td>6.477045</td>\n",
       "      <td>86.527452</td>\n",
       "      <td>6.342226</td>\n",
       "      <td>86.102370</td>\n",
       "      <td>6.451466</td>\n",
       "      <td>86.170684</td>\n",
       "      <td>552160000</td>\n",
       "      <td>116074400</td>\n",
       "    </tr>\n",
       "    <tr>\n",
       "      <th>2010-01-07</th>\n",
       "      <td>6.337109</td>\n",
       "      <td>86.679276</td>\n",
       "      <td>6.379843</td>\n",
       "      <td>86.785546</td>\n",
       "      <td>6.291066</td>\n",
       "      <td>85.912604</td>\n",
       "      <td>6.372319</td>\n",
       "      <td>86.155509</td>\n",
       "      <td>477131200</td>\n",
       "      <td>131091100</td>\n",
       "    </tr>\n",
       "    <tr>\n",
       "      <th>2010-01-08</th>\n",
       "      <td>6.379240</td>\n",
       "      <td>86.967690</td>\n",
       "      <td>6.379842</td>\n",
       "      <td>87.005646</td>\n",
       "      <td>6.291368</td>\n",
       "      <td>86.276931</td>\n",
       "      <td>6.328683</td>\n",
       "      <td>86.451516</td>\n",
       "      <td>447610800</td>\n",
       "      <td>126402800</td>\n",
       "    </tr>\n",
       "    <tr>\n",
       "      <th>...</th>\n",
       "      <td>...</td>\n",
       "      <td>...</td>\n",
       "      <td>...</td>\n",
       "      <td>...</td>\n",
       "      <td>...</td>\n",
       "      <td>...</td>\n",
       "      <td>...</td>\n",
       "      <td>...</td>\n",
       "      <td>...</td>\n",
       "      <td>...</td>\n",
       "    </tr>\n",
       "    <tr>\n",
       "      <th>2024-12-23</th>\n",
       "      <td>254.989655</td>\n",
       "      <td>594.690002</td>\n",
       "      <td>255.369227</td>\n",
       "      <td>595.299988</td>\n",
       "      <td>253.171646</td>\n",
       "      <td>587.659973</td>\n",
       "      <td>254.490204</td>\n",
       "      <td>590.890015</td>\n",
       "      <td>40858800</td>\n",
       "      <td>57635800</td>\n",
       "    </tr>\n",
       "    <tr>\n",
       "      <th>2024-12-24</th>\n",
       "      <td>257.916443</td>\n",
       "      <td>601.299988</td>\n",
       "      <td>257.926411</td>\n",
       "      <td>601.340027</td>\n",
       "      <td>255.009620</td>\n",
       "      <td>595.469971</td>\n",
       "      <td>255.209412</td>\n",
       "      <td>596.059998</td>\n",
       "      <td>23234700</td>\n",
       "      <td>33160100</td>\n",
       "    </tr>\n",
       "    <tr>\n",
       "      <th>2024-12-26</th>\n",
       "      <td>258.735504</td>\n",
       "      <td>601.340027</td>\n",
       "      <td>259.814335</td>\n",
       "      <td>602.479980</td>\n",
       "      <td>257.347047</td>\n",
       "      <td>598.080017</td>\n",
       "      <td>257.906429</td>\n",
       "      <td>599.500000</td>\n",
       "      <td>27237100</td>\n",
       "      <td>41219100</td>\n",
       "    </tr>\n",
       "    <tr>\n",
       "      <th>2024-12-27</th>\n",
       "      <td>255.309296</td>\n",
       "      <td>595.010010</td>\n",
       "      <td>258.415896</td>\n",
       "      <td>597.780029</td>\n",
       "      <td>252.782075</td>\n",
       "      <td>590.760010</td>\n",
       "      <td>257.546826</td>\n",
       "      <td>597.539978</td>\n",
       "      <td>42355300</td>\n",
       "      <td>64969300</td>\n",
       "    </tr>\n",
       "    <tr>\n",
       "      <th>2024-12-30</th>\n",
       "      <td>251.923019</td>\n",
       "      <td>588.219971</td>\n",
       "      <td>253.221595</td>\n",
       "      <td>591.739990</td>\n",
       "      <td>250.474615</td>\n",
       "      <td>584.409973</td>\n",
       "      <td>251.952985</td>\n",
       "      <td>587.890015</td>\n",
       "      <td>35557500</td>\n",
       "      <td>56578800</td>\n",
       "    </tr>\n",
       "  </tbody>\n",
       "</table>\n",
       "<p>3773 rows × 10 columns</p>\n",
       "</div>"
      ],
      "text/plain": [
       "Price            Close                    High                     Low  \\\n",
       "Ticker            AAPL         SPY        AAPL         SPY        AAPL   \n",
       "Date                                                                     \n",
       "2010-01-04    6.440331   86.026451    6.455077   86.071994    6.391279   \n",
       "2010-01-05    6.451466   86.254158    6.487879   86.292114    6.417459   \n",
       "2010-01-06    6.348846   86.314911    6.477045   86.527452    6.342226   \n",
       "2010-01-07    6.337109   86.679276    6.379843   86.785546    6.291066   \n",
       "2010-01-08    6.379240   86.967690    6.379842   87.005646    6.291368   \n",
       "...                ...         ...         ...         ...         ...   \n",
       "2024-12-23  254.989655  594.690002  255.369227  595.299988  253.171646   \n",
       "2024-12-24  257.916443  601.299988  257.926411  601.340027  255.009620   \n",
       "2024-12-26  258.735504  601.340027  259.814335  602.479980  257.347047   \n",
       "2024-12-27  255.309296  595.010010  258.415896  597.780029  252.782075   \n",
       "2024-12-30  251.923019  588.219971  253.221595  591.739990  250.474615   \n",
       "\n",
       "Price                         Open                 Volume             \n",
       "Ticker             SPY        AAPL         SPY       AAPL        SPY  \n",
       "Date                                                                  \n",
       "2010-01-04   84.644927    6.422877   85.297736  493729600  118944600  \n",
       "2010-01-05   85.662077    6.458086   85.973302  601904800  111579900  \n",
       "2010-01-06   86.102370    6.451466   86.170684  552160000  116074400  \n",
       "2010-01-07   85.912604    6.372319   86.155509  477131200  131091100  \n",
       "2010-01-08   86.276931    6.328683   86.451516  447610800  126402800  \n",
       "...                ...         ...         ...        ...        ...  \n",
       "2024-12-23  587.659973  254.490204  590.890015   40858800   57635800  \n",
       "2024-12-24  595.469971  255.209412  596.059998   23234700   33160100  \n",
       "2024-12-26  598.080017  257.906429  599.500000   27237100   41219100  \n",
       "2024-12-27  590.760010  257.546826  597.539978   42355300   64969300  \n",
       "2024-12-30  584.409973  251.952985  587.890015   35557500   56578800  \n",
       "\n",
       "[3773 rows x 10 columns]"
      ]
     },
     "execution_count": 2,
     "metadata": {},
     "output_type": "execute_result"
    }
   ],
   "source": [
    "raw = yf.download('SPY AAPL', start='2010-01-01', end='2024-12-31')\n",
    "raw"
   ]
  },
  {
   "cell_type": "code",
   "execution_count": 3,
   "metadata": {},
   "outputs": [
    {
     "data": {
      "text/plain": [
       "MultiIndex([( 'Close', 'AAPL'),\n",
       "            ( 'Close',  'SPY'),\n",
       "            (  'High', 'AAPL'),\n",
       "            (  'High',  'SPY'),\n",
       "            (   'Low', 'AAPL'),\n",
       "            (   'Low',  'SPY'),\n",
       "            (  'Open', 'AAPL'),\n",
       "            (  'Open',  'SPY'),\n",
       "            ('Volume', 'AAPL'),\n",
       "            ('Volume',  'SPY')],\n",
       "           names=['Price', 'Ticker'])"
      ]
     },
     "execution_count": 3,
     "metadata": {},
     "output_type": "execute_result"
    }
   ],
   "source": [
    "raw.columns\n"
   ]
  },
  {
   "cell_type": "code",
   "execution_count": 4,
   "metadata": {},
   "outputs": [
    {
     "data": {
      "text/plain": [
       "MultiIndex([( 'Close', 'AAPL'),\n",
       "            (  'High', 'AAPL'),\n",
       "            (   'Low', 'AAPL'),\n",
       "            (  'Open', 'AAPL'),\n",
       "            ('Volume', 'AAPL')],\n",
       "           names=['Price', 'Ticker'])"
      ]
     },
     "execution_count": 4,
     "metadata": {},
     "output_type": "execute_result"
    }
   ],
   "source": [
    "raw.iloc[:, ::2].columns"
   ]
  },
  {
   "cell_type": "code",
   "execution_count": 5,
   "metadata": {},
   "outputs": [],
   "source": [
    "column = [col[0] for col in raw]\n",
    "raw.columns= column"
   ]
  },
  {
   "cell_type": "code",
   "execution_count": 6,
   "metadata": {},
   "outputs": [
    {
     "data": {
      "text/plain": [
       "Index(['Close', 'High', 'Low', 'Open', 'Volume'], dtype='object')"
      ]
     },
     "execution_count": 6,
     "metadata": {},
     "output_type": "execute_result"
    }
   ],
   "source": [
    "raw.iloc[:, ::2].columns"
   ]
  },
  {
   "cell_type": "code",
   "execution_count": 7,
   "metadata": {},
   "outputs": [
    {
     "data": {
      "text/html": [
       "<div>\n",
       "<style scoped>\n",
       "    .dataframe tbody tr th:only-of-type {\n",
       "        vertical-align: middle;\n",
       "    }\n",
       "\n",
       "    .dataframe tbody tr th {\n",
       "        vertical-align: top;\n",
       "    }\n",
       "\n",
       "    .dataframe thead th {\n",
       "        text-align: right;\n",
       "    }\n",
       "</style>\n",
       "<table border=\"1\" class=\"dataframe\">\n",
       "  <thead>\n",
       "    <tr style=\"text-align: right;\">\n",
       "      <th></th>\n",
       "      <th>Close</th>\n",
       "      <th>High</th>\n",
       "      <th>Low</th>\n",
       "      <th>Open</th>\n",
       "      <th>Volume</th>\n",
       "    </tr>\n",
       "    <tr>\n",
       "      <th>Date</th>\n",
       "      <th></th>\n",
       "      <th></th>\n",
       "      <th></th>\n",
       "      <th></th>\n",
       "      <th></th>\n",
       "    </tr>\n",
       "  </thead>\n",
       "  <tbody>\n",
       "    <tr>\n",
       "      <th>2010-01-04</th>\n",
       "      <td>6.440331</td>\n",
       "      <td>6.455077</td>\n",
       "      <td>6.391279</td>\n",
       "      <td>6.422877</td>\n",
       "      <td>493729600</td>\n",
       "    </tr>\n",
       "    <tr>\n",
       "      <th>2010-01-05</th>\n",
       "      <td>6.451466</td>\n",
       "      <td>6.487879</td>\n",
       "      <td>6.417459</td>\n",
       "      <td>6.458086</td>\n",
       "      <td>601904800</td>\n",
       "    </tr>\n",
       "    <tr>\n",
       "      <th>2010-01-06</th>\n",
       "      <td>6.348846</td>\n",
       "      <td>6.477045</td>\n",
       "      <td>6.342226</td>\n",
       "      <td>6.451466</td>\n",
       "      <td>552160000</td>\n",
       "    </tr>\n",
       "    <tr>\n",
       "      <th>2010-01-07</th>\n",
       "      <td>6.337109</td>\n",
       "      <td>6.379843</td>\n",
       "      <td>6.291066</td>\n",
       "      <td>6.372319</td>\n",
       "      <td>477131200</td>\n",
       "    </tr>\n",
       "    <tr>\n",
       "      <th>2010-01-08</th>\n",
       "      <td>6.379240</td>\n",
       "      <td>6.379842</td>\n",
       "      <td>6.291368</td>\n",
       "      <td>6.328683</td>\n",
       "      <td>447610800</td>\n",
       "    </tr>\n",
       "    <tr>\n",
       "      <th>...</th>\n",
       "      <td>...</td>\n",
       "      <td>...</td>\n",
       "      <td>...</td>\n",
       "      <td>...</td>\n",
       "      <td>...</td>\n",
       "    </tr>\n",
       "    <tr>\n",
       "      <th>2024-12-23</th>\n",
       "      <td>254.989655</td>\n",
       "      <td>255.369227</td>\n",
       "      <td>253.171646</td>\n",
       "      <td>254.490204</td>\n",
       "      <td>40858800</td>\n",
       "    </tr>\n",
       "    <tr>\n",
       "      <th>2024-12-24</th>\n",
       "      <td>257.916443</td>\n",
       "      <td>257.926411</td>\n",
       "      <td>255.009620</td>\n",
       "      <td>255.209412</td>\n",
       "      <td>23234700</td>\n",
       "    </tr>\n",
       "    <tr>\n",
       "      <th>2024-12-26</th>\n",
       "      <td>258.735504</td>\n",
       "      <td>259.814335</td>\n",
       "      <td>257.347047</td>\n",
       "      <td>257.906429</td>\n",
       "      <td>27237100</td>\n",
       "    </tr>\n",
       "    <tr>\n",
       "      <th>2024-12-27</th>\n",
       "      <td>255.309296</td>\n",
       "      <td>258.415896</td>\n",
       "      <td>252.782075</td>\n",
       "      <td>257.546826</td>\n",
       "      <td>42355300</td>\n",
       "    </tr>\n",
       "    <tr>\n",
       "      <th>2024-12-30</th>\n",
       "      <td>251.923019</td>\n",
       "      <td>253.221595</td>\n",
       "      <td>250.474615</td>\n",
       "      <td>251.952985</td>\n",
       "      <td>35557500</td>\n",
       "    </tr>\n",
       "  </tbody>\n",
       "</table>\n",
       "<p>3773 rows × 5 columns</p>\n",
       "</div>"
      ],
      "text/plain": [
       "                 Close        High         Low        Open     Volume\n",
       "Date                                                                 \n",
       "2010-01-04    6.440331    6.455077    6.391279    6.422877  493729600\n",
       "2010-01-05    6.451466    6.487879    6.417459    6.458086  601904800\n",
       "2010-01-06    6.348846    6.477045    6.342226    6.451466  552160000\n",
       "2010-01-07    6.337109    6.379843    6.291066    6.372319  477131200\n",
       "2010-01-08    6.379240    6.379842    6.291368    6.328683  447610800\n",
       "...                ...         ...         ...         ...        ...\n",
       "2024-12-23  254.989655  255.369227  253.171646  254.490204   40858800\n",
       "2024-12-24  257.916443  257.926411  255.009620  255.209412   23234700\n",
       "2024-12-26  258.735504  259.814335  257.347047  257.906429   27237100\n",
       "2024-12-27  255.309296  258.415896  252.782075  257.546826   42355300\n",
       "2024-12-30  251.923019  253.221595  250.474615  251.952985   35557500\n",
       "\n",
       "[3773 rows x 5 columns]"
      ]
     },
     "execution_count": 7,
     "metadata": {},
     "output_type": "execute_result"
    }
   ],
   "source": [
    "raw = raw.iloc[:, ::2]\n",
    "raw"
   ]
  },
  {
   "cell_type": "code",
   "execution_count": 8,
   "metadata": {},
   "outputs": [
    {
     "data": {
      "text/plain": [
       "<Axes: xlabel='Date'>"
      ]
     },
     "execution_count": 8,
     "metadata": {},
     "output_type": "execute_result"
    },
    {
     "data": {
      "image/png": "[encoded data removed]",
      "text/plain": [
       "<Figure size 640x480 with 1 Axes>"
      ]
     },
     "metadata": {},
     "output_type": "display_data"
    }
   ],
   "source": [
    "raw.Close.plot()"
   ]
  },
  {
   "cell_type": "code",
   "execution_count": 9,
   "metadata": {},
   "outputs": [
    {
     "data": {
      "text/plain": [
       "<Axes: xlabel='Date'>"
      ]
     },
     "execution_count": 9,
     "metadata": {},
     "output_type": "execute_result"
    },
    {
     "data": {
      "image/png": "[encoded data removed]",
      "text/plain": [
       "<Figure size 640x480 with 1 Axes>"
      ]
     },
     "metadata": {},
     "output_type": "display_data"
    }
   ],
   "source": [
    "raw.pct_change().Close.plot()"
   ]
  }
 ],
 "metadata": {
  "kernelspec": {
   "display_name": "Python 3",
   "language": "python",
   "name": "python3"
  },
  "language_info": {
   "codemirror_mode": {
    "name": "ipython",
    "version": 3
   },
   "file_extension": ".py",
   "mimetype": "text/x-python",
   "name": "python",
   "nbconvert_exporter": "python",
   "pygments_lexer": "ipython3",
   "version": "3.12.9"
  }
 },
 "nbformat": 4,
 "nbformat_minor": 2
}
